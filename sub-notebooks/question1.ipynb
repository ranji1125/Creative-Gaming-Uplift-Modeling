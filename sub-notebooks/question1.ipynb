{
 "cells": [
  {
   "cell_type": "code",
   "execution_count": null,
   "metadata": {},
   "outputs": [],
   "source": [
    "lrc = rsm.model.logistic(\n",
    "    data={\"cg_organic_control\": cg_organic_control},\n",
    "    rvar=\"converted\",\n",
    "    lev=\"yes\",\n",
    "    evar=[\"GameLevel\", \"NumGameDays\", \"NumGameDays4Plus\"]\n",
    ")\n",
    "lrc.summary()"
   ]
  }
 ],
 "metadata": {
  "kernelspec": {
   "display_name": "Python 3",
   "language": "python",
   "name": "python3"
  },
  "language_info": {
   "codemirror_mode": {
    "name": "ipython",
    "version": 3
   },
   "file_extension": ".py",
   "mimetype": "text/x-python",
   "name": "python",
   "nbconvert_exporter": "python",
   "pygments_lexer": "ipython3",
   "version": "3.8.5"
  }
 },
 "nbformat": 4,
 "nbformat_minor": 4
}
